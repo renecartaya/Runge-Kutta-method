{
 "cells": [
  {
   "cell_type": "code",
   "execution_count": 1,
   "id": "89d54594-471b-4f3f-b696-b500f665ac28",
   "metadata": {},
   "outputs": [],
   "source": [
    "####################################################################################################################\n",
    "#\n",
    "#                                  Runge-Kutta method\n",
    "#\n",
    "####################################################################################################################"
   ]
  },
  {
   "cell_type": "code",
   "execution_count": 2,
   "id": "48b779c2-2c4f-4ea3-983f-5098fc971e71",
   "metadata": {},
   "outputs": [],
   "source": [
    "import numpy as np\n",
    "import matplotlib.pyplot as plt\n",
    "%matplotlib inline"
   ]
  },
  {
   "cell_type": "code",
   "execution_count": 5,
   "id": "391a3fd1-6560-47e4-a0dc-0957fefa4fc8",
   "metadata": {},
   "outputs": [],
   "source": [
    "# set the value of omega2\n",
    "omegasq = 1"
   ]
  },
  {
   "cell_type": "code",
   "execution_count": 7,
   "id": "1d0aa3d9-f739-41ac-be55-ff2555f6f16c",
   "metadata": {},
   "outputs": [],
   "source": [
    "# Function to calculate derivatives for h.osc.\n",
    "def deriv(y,t):\n",
    "    return np.array([y[1], -omegasq*y[0]])"
   ]
  },
  {
   "cell_type": "code",
   "execution_count": 8,
   "id": "8b4cb7ed-c409-4dd0-8fec-dbf1b7b0ed27",
   "metadata": {},
   "outputs": [],
   "source": [
    "# Runge Kutta steps\n",
    "\n",
    "def runge_kutta(y, dy, t, h):\n",
    "    k1 = dy(y,t)\n",
    "    k2 = dy(y+h/2*k1,t+h/2)\n",
    "    k3 = dy(y+h/2*k2,t+h/2)\n",
    "    k4 = dy(y+h*k3,t+h/2)\n",
    "    y = y+h*(k1+2*k2+2*k3+k4)/6\n",
    "    t = t + h\n",
    "    return (t,y)"
   ]
  },
  {
   "cell_type": "code",
   "execution_count": null,
   "id": "dd9f0f86-4f4b-4ed1-b69d-846d24abcb3d",
   "metadata": {},
   "outputs": [],
   "source": [
    "y = np.array([0,0.2]) # starting value for x, \\dot(x)"
   ]
  }
 ],
 "metadata": {
  "kernelspec": {
   "display_name": "Python 3 (ipykernel)",
   "language": "python",
   "name": "python3"
  },
  "language_info": {
   "codemirror_mode": {
    "name": "ipython",
    "version": 3
   },
   "file_extension": ".py",
   "mimetype": "text/x-python",
   "name": "python",
   "nbconvert_exporter": "python",
   "pygments_lexer": "ipython3",
   "version": "3.9.7"
  }
 },
 "nbformat": 4,
 "nbformat_minor": 5
}
